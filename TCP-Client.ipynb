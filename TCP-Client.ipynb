{
 "cells": [
  {
   "cell_type": "markdown",
   "id": "874560cc",
   "metadata": {},
   "source": [
    "# TCP Client"
   ]
  },
  {
   "cell_type": "code",
   "execution_count": 1,
   "id": "cb6ff64d",
   "metadata": {},
   "outputs": [],
   "source": [
    "import socket"
   ]
  },
  {
   "cell_type": "code",
   "execution_count": 2,
   "id": "16dcadad",
   "metadata": {},
   "outputs": [],
   "source": [
    "TCP_PORT = 20000\n",
    "IP_ADDR = '127.0.0.1'\n",
    "BUF_SIZE = 1024"
   ]
  },
  {
   "cell_type": "markdown",
   "id": "20393b42",
   "metadata": {},
   "source": [
    "## Create a stream socket"
   ]
  },
  {
   "cell_type": "code",
   "execution_count": 3,
   "id": "03da2bd2",
   "metadata": {},
   "outputs": [],
   "source": [
    "k = socket.socket (socket.AF_INET, socket.SOCK_STREAM)"
   ]
  },
  {
   "cell_type": "markdown",
   "id": "374e5732",
   "metadata": {},
   "source": [
    "## Connect to server"
   ]
  },
  {
   "cell_type": "markdown",
   "id": "2dbf932e",
   "metadata": {},
   "source": [
    "Initiates the TCP three way handshake for connection establishment."
   ]
  },
  {
   "cell_type": "code",
   "execution_count": 4,
   "id": "5a73ccac",
   "metadata": {},
   "outputs": [],
   "source": [
    "k.connect((IP_ADDR, TCP_PORT))"
   ]
  },
  {
   "cell_type": "markdown",
   "id": "2c56b61f",
   "metadata": {},
   "source": [
    "## Send a message to server"
   ]
  },
  {
   "cell_type": "code",
   "execution_count": 5,
   "id": "d22e24e8",
   "metadata": {},
   "outputs": [],
   "source": [
    "MSG = \"Hello\""
   ]
  },
  {
   "cell_type": "code",
   "execution_count": 6,
   "id": "add4db48",
   "metadata": {},
   "outputs": [
    {
     "data": {
      "text/plain": [
       "5"
      ]
     },
     "execution_count": 6,
     "metadata": {},
     "output_type": "execute_result"
    }
   ],
   "source": [
    "k.send(MSG.encode())"
   ]
  },
  {
   "cell_type": "markdown",
   "id": "0f15e209",
   "metadata": {},
   "source": [
    "## Receive reply from server"
   ]
  },
  {
   "cell_type": "code",
   "execution_count": 7,
   "id": "c2f3f811",
   "metadata": {},
   "outputs": [],
   "source": [
    "data = k.recv(BUF_SIZE)"
   ]
  },
  {
   "cell_type": "code",
   "execution_count": 8,
   "id": "1dc8c16e",
   "metadata": {},
   "outputs": [
    {
     "name": "stdout",
     "output_type": "stream",
     "text": [
      "Hi\n"
     ]
    }
   ],
   "source": [
    "print(data.decode())"
   ]
  },
  {
   "cell_type": "markdown",
   "id": "328b28f5",
   "metadata": {},
   "source": [
    "## Close the connection"
   ]
  },
  {
   "cell_type": "code",
   "execution_count": 9,
   "id": "a797e27c",
   "metadata": {},
   "outputs": [],
   "source": [
    "k.close()"
   ]
  },
  {
   "cell_type": "code",
   "execution_count": null,
   "id": "e1a8b0e3",
   "metadata": {},
   "outputs": [],
   "source": []
  }
 ],
 "metadata": {
  "kernelspec": {
   "display_name": "Python 3 (ipykernel)",
   "language": "python",
   "name": "python3"
  },
  "language_info": {
   "codemirror_mode": {
    "name": "ipython",
    "version": 3
   },
   "file_extension": ".py",
   "mimetype": "text/x-python",
   "name": "python",
   "nbconvert_exporter": "python",
   "pygments_lexer": "ipython3",
   "version": "3.8.10"
  }
 },
 "nbformat": 4,
 "nbformat_minor": 5
}
