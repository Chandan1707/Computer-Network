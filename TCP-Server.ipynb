{
 "cells": [
  {
   "cell_type": "markdown",
   "id": "3b92fb85",
   "metadata": {},
   "source": [
    "# TCP Server"
   ]
  },
  {
   "cell_type": "markdown",
   "id": "e0bd5440",
   "metadata": {},
   "source": [
    "Sockets are the endpoints of a bidirectional communications channel. Sockets may communicate within a process,\n",
    "between processes on the same machine, or between processes on different machines."
   ]
  },
  {
   "cell_type": "markdown",
   "id": "2629f06b",
   "metadata": {},
   "source": [
    "## Import the socket module"
   ]
  },
  {
   "cell_type": "code",
   "execution_count": 1,
   "id": "25fddfda",
   "metadata": {},
   "outputs": [],
   "source": [
    "import socket"
   ]
  },
  {
   "cell_type": "code",
   "execution_count": 2,
   "id": "6b82375e",
   "metadata": {},
   "outputs": [],
   "source": [
    "TCP_PORT = 20000\n",
    "IP_ADDR = '127.0.0.1'\n",
    "BUF_SIZE = 30"
   ]
  },
  {
   "cell_type": "markdown",
   "id": "19e22a90",
   "metadata": {},
   "source": [
    "## Create a socket"
   ]
  },
  {
   "cell_type": "markdown",
   "id": "1be8c7fc",
   "metadata": {},
   "source": [
    "To create a socket, use the socket.socket() function available in socket module. It has the following general syntax:\n",
    "\n",
    "    s = socket.socket(addr_family, type)\n",
    "\n",
    "Address families: The family of protocols that will be used as the transport mechanism. \n",
    "\n",
    "    socket.AF_INET Internet protocol (IPv4)\n",
    "    socket.AF_INET6 Internet protocol (IPv6)\n",
    "    socket.PF_INET\n",
    "    socket.PF_UNIX\n",
    "    socket.PF_X25\n",
    "\n",
    "\n",
    "Socket type: Defines the type of communications between the two endpoints.\n",
    "\n",
    "    SOCK_STREAM for connection-oriented protocols (TCP)\n",
    "    SOCK_DGRAM for connectionless protocols (UDP)\n",
    "\n",
    "\n"
   ]
  },
  {
   "cell_type": "code",
   "execution_count": 3,
   "id": "cfa643b3",
   "metadata": {},
   "outputs": [],
   "source": [
    "k = socket.socket (socket.AF_INET, socket.SOCK_STREAM)"
   ]
  },
  {
   "cell_type": "markdown",
   "id": "c91e5d6b",
   "metadata": {},
   "source": [
    "## Bind a socket"
   ]
  },
  {
   "cell_type": "markdown",
   "id": "0de3660d",
   "metadata": {},
   "source": [
    "bind() method is used to associate the socket with a specific network interface and port number. The values passed to bind() depend on the address family of the socket. \n",
    "\n",
    "In case of socket.AF_INET (IPv4), it expects a two-tuple: (host, port).\n",
    "\n",
    "host can be a hostname, IP address, or empty string. If an IP address is used, host should be an IPv4-formatted address string. The IP address 127.0.0.1 is the standard IPv4 address for the loopback interface, so only processes on the host will be able to connect to the server. If you pass an empty string, the server will accept connections on all available IPv4 interfaces.\n",
    "\n",
    "port represents the TCP port number to accept connections on from clients. It should be an integer from 1 to 65535, as 0 is reserved. Some systems may require superuser privileges if the port number is less than 1024.\n"
   ]
  },
  {
   "cell_type": "code",
   "execution_count": 4,
   "id": "12327f5d",
   "metadata": {},
   "outputs": [],
   "source": [
    "k.bind((IP_ADDR, TCP_PORT))"
   ]
  },
  {
   "cell_type": "markdown",
   "id": "c9ca9c48",
   "metadata": {},
   "source": [
    "## Listen on a socket\n",
    "\n",
    "listen() method enables a server to accept connections. It makes the server a “listening” socket. The parameter specifies the number of unaccepted connections that the system will allow before refusing new connections. If the server receives a lot of connection requests simultaneously, increasing the backlog value may help by setting the maximum length of the queue for pending connections. The maximum value is system dependent. For example, on Linux, see /proc/sys/net/core/somaxconn."
   ]
  },
  {
   "cell_type": "code",
   "execution_count": 5,
   "id": "d68dea46",
   "metadata": {},
   "outputs": [],
   "source": [
    "k.listen(1)"
   ]
  },
  {
   "cell_type": "code",
   "execution_count": null,
   "id": "568c31ad",
   "metadata": {},
   "outputs": [],
   "source": [
    "!cat /proc/sys/net/core/somaxconn"
   ]
  },
  {
   "cell_type": "markdown",
   "id": "2eab48bb",
   "metadata": {},
   "source": [
    "## Accept a connection\n",
    "\n",
    "accept() method blocks execution and waits for an incoming connection. When a client connects, it returns a new socket object representing the connection and a tuple holding the address of the client. The tuple will contain (host, port) for IPv4 connections."
   ]
  },
  {
   "cell_type": "code",
   "execution_count": 6,
   "id": "0632ab65",
   "metadata": {},
   "outputs": [],
   "source": [
    "con, addr = k.accept()"
   ]
  },
  {
   "cell_type": "code",
   "execution_count": 7,
   "id": "217d85cd",
   "metadata": {},
   "outputs": [
    {
     "name": "stdout",
     "output_type": "stream",
     "text": [
      "Connection Address is:  ('127.0.0.1', 48058)\n"
     ]
    }
   ],
   "source": [
    "print ('Connection Address is: ' , addr)"
   ]
  },
  {
   "cell_type": "markdown",
   "id": "fe1863ec",
   "metadata": {},
   "source": [
    "## Receive a message from client"
   ]
  },
  {
   "cell_type": "code",
   "execution_count": 8,
   "id": "3ef5c55f",
   "metadata": {},
   "outputs": [],
   "source": [
    "data = con.recv(BUF_SIZE)"
   ]
  },
  {
   "cell_type": "code",
   "execution_count": 9,
   "id": "c5fbd110",
   "metadata": {},
   "outputs": [
    {
     "name": "stdout",
     "output_type": "stream",
     "text": [
      "Received data Hello\n"
     ]
    }
   ],
   "source": [
    "print (\"Received data\", data.decode())"
   ]
  },
  {
   "cell_type": "markdown",
   "id": "b9b3ed8a",
   "metadata": {},
   "source": [
    "## Send a message to client"
   ]
  },
  {
   "cell_type": "code",
   "execution_count": 10,
   "id": "eaff90f5",
   "metadata": {},
   "outputs": [],
   "source": [
    "msg = \"Hi\".encode()\n"
   ]
  },
  {
   "cell_type": "code",
   "execution_count": 11,
   "id": "019e1bc4",
   "metadata": {},
   "outputs": [
    {
     "data": {
      "text/plain": [
       "2"
      ]
     },
     "execution_count": 11,
     "metadata": {},
     "output_type": "execute_result"
    }
   ],
   "source": [
    "con.send(msg)"
   ]
  },
  {
   "cell_type": "markdown",
   "id": "4d2dba2e",
   "metadata": {},
   "source": [
    "## Close the connection"
   ]
  },
  {
   "cell_type": "code",
   "execution_count": 12,
   "id": "da329f40",
   "metadata": {},
   "outputs": [],
   "source": [
    "con.close()"
   ]
  },
  {
   "cell_type": "markdown",
   "id": "c562aa95",
   "metadata": {},
   "source": [
    "## Viewing socket state"
   ]
  },
  {
   "cell_type": "markdown",
   "id": "7032c431",
   "metadata": {},
   "source": [
    "To see the current state of sockets on your host, use netstat."
   ]
  },
  {
   "cell_type": "code",
   "execution_count": null,
   "id": "ab0d3984",
   "metadata": {},
   "outputs": [],
   "source": [
    "!netstat"
   ]
  },
  {
   "cell_type": "markdown",
   "id": "d5d54b6c",
   "metadata": {},
   "source": [
    "Another way to access this, along with additional helpful information, is to use lsof (list open files)."
   ]
  },
  {
   "cell_type": "code",
   "execution_count": null,
   "id": "a6552c55",
   "metadata": {},
   "outputs": [],
   "source": [
    "!lsof -i -n "
   ]
  },
  {
   "cell_type": "code",
   "execution_count": null,
   "id": "4dd93fac",
   "metadata": {},
   "outputs": [],
   "source": []
  }
 ],
 "metadata": {
  "kernelspec": {
   "display_name": "Python 3 (ipykernel)",
   "language": "python",
   "name": "python3"
  },
  "language_info": {
   "codemirror_mode": {
    "name": "ipython",
    "version": 3
   },
   "file_extension": ".py",
   "mimetype": "text/x-python",
   "name": "python",
   "nbconvert_exporter": "python",
   "pygments_lexer": "ipython3",
   "version": "3.8.10"
  }
 },
 "nbformat": 4,
 "nbformat_minor": 5
}
