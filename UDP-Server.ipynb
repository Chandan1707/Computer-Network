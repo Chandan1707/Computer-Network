{
 "cells": [
  {
   "cell_type": "markdown",
   "id": "0e29fd86",
   "metadata": {},
   "source": [
    "# UDP Server"
   ]
  },
  {
   "cell_type": "code",
   "execution_count": null,
   "id": "43b91fd3",
   "metadata": {},
   "outputs": [],
   "source": [
    "import socket"
   ]
  },
  {
   "cell_type": "code",
   "execution_count": null,
   "id": "65f101e7",
   "metadata": {},
   "outputs": [],
   "source": [
    "localIP     = \"127.0.0.1\"\n",
    "localPort   = 20001\n",
    "bufferSize  = 1024\n",
    "\n",
    "msgFromServer       = \"Reply from Server\"\n",
    "bytesToSend         = str.encode(msgFromServer)"
   ]
  },
  {
   "cell_type": "markdown",
   "id": "e494cf2f",
   "metadata": {},
   "source": [
    "## Create a UDP socket at server side"
   ]
  },
  {
   "cell_type": "code",
   "execution_count": null,
   "id": "20f53290",
   "metadata": {},
   "outputs": [],
   "source": [
    "UDPServerSocket = socket.socket(family=socket.AF_INET, type=socket.SOCK_DGRAM)"
   ]
  },
  {
   "cell_type": "markdown",
   "id": "6b25002d",
   "metadata": {},
   "source": [
    "## Bind to IP address and port"
   ]
  },
  {
   "cell_type": "code",
   "execution_count": null,
   "id": "f4c18309",
   "metadata": {},
   "outputs": [],
   "source": [
    "UDPServerSocket.bind((localIP, localPort))"
   ]
  },
  {
   "cell_type": "markdown",
   "id": "d82660e0",
   "metadata": {},
   "source": [
    "## Listen for incoming datagrams"
   ]
  },
  {
   "cell_type": "code",
   "execution_count": null,
   "id": "708e9673",
   "metadata": {},
   "outputs": [],
   "source": [
    "bytesAddressPair = UDPServerSocket.recvfrom(bufferSize)"
   ]
  },
  {
   "cell_type": "code",
   "execution_count": null,
   "id": "ec7cefff",
   "metadata": {},
   "outputs": [],
   "source": [
    "message = bytesAddressPair[0]\n",
    "address = bytesAddressPair[1]\n",
    "\n",
    "clientMsg = \"Message from Client:{}\".format(message.decode())\n",
    "clientIP  = \"Client IP Address:{}\".format(address)\n",
    "    \n",
    "print(clientMsg)\n",
    "print(clientIP)"
   ]
  },
  {
   "cell_type": "code",
   "execution_count": null,
   "id": "159e7324",
   "metadata": {},
   "outputs": [],
   "source": []
  }
 ],
 "metadata": {
  "kernelspec": {
   "display_name": "Python 3 (ipykernel)",
   "language": "python",
   "name": "python3"
  },
  "language_info": {
   "codemirror_mode": {
    "name": "ipython",
    "version": 3
   },
   "file_extension": ".py",
   "mimetype": "text/x-python",
   "name": "python",
   "nbconvert_exporter": "python",
   "pygments_lexer": "ipython3",
   "version": "3.8.10"
  }
 },
 "nbformat": 4,
 "nbformat_minor": 5
}
