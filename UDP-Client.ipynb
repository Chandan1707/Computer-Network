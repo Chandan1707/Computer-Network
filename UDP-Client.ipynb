{
 "cells": [
  {
   "cell_type": "markdown",
   "id": "357b8366",
   "metadata": {},
   "source": [
    "# UDP Client"
   ]
  },
  {
   "cell_type": "code",
   "execution_count": null,
   "id": "3ab3eb65",
   "metadata": {},
   "outputs": [],
   "source": [
    "import socket"
   ]
  },
  {
   "cell_type": "code",
   "execution_count": null,
   "id": "9a693f4e",
   "metadata": {},
   "outputs": [],
   "source": [
    "serverAddressPort   = (\"127.0.0.1\", 20001)\n",
    "bufferSize          = 1024"
   ]
  },
  {
   "cell_type": "markdown",
   "id": "4011903a",
   "metadata": {},
   "source": [
    "## Create a UDP Socket at Client Side"
   ]
  },
  {
   "cell_type": "code",
   "execution_count": null,
   "id": "d8264f35",
   "metadata": {},
   "outputs": [],
   "source": [
    "UDPClientSocket = socket.socket(family=socket.AF_INET, type=socket.SOCK_DGRAM)"
   ]
  },
  {
   "cell_type": "markdown",
   "id": "e6b77018",
   "metadata": {},
   "source": [
    "## Send Some Data to Server"
   ]
  },
  {
   "cell_type": "code",
   "execution_count": null,
   "id": "12ab04c0",
   "metadata": {},
   "outputs": [],
   "source": [
    "msgFromClient       = \"Hello UDP Server: I am UDP Client1\"\n",
    "bytesToSend         = str.encode(msgFromClient)"
   ]
  },
  {
   "cell_type": "code",
   "execution_count": null,
   "id": "f8701dde",
   "metadata": {},
   "outputs": [],
   "source": [
    "UDPClientSocket.sendto(bytesToSend, serverAddressPort)"
   ]
  },
  {
   "cell_type": "code",
   "execution_count": null,
   "id": "312be44d",
   "metadata": {},
   "outputs": [],
   "source": []
  }
 ],
 "metadata": {
  "kernelspec": {
   "display_name": "Python 3 (ipykernel)",
   "language": "python",
   "name": "python3"
  },
  "language_info": {
   "codemirror_mode": {
    "name": "ipython",
    "version": 3
   },
   "file_extension": ".py",
   "mimetype": "text/x-python",
   "name": "python",
   "nbconvert_exporter": "python",
   "pygments_lexer": "ipython3",
   "version": "3.8.10"
  }
 },
 "nbformat": 4,
 "nbformat_minor": 5
}
